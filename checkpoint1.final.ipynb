{
 "cells": [
  {
   "cell_type": "markdown",
   "id": "8cb6f270",
   "metadata": {},
   "source": [
    "#Question 1"
   ]
  },
  {
   "cell_type": "code",
   "execution_count": 2,
   "id": "7e87736d",
   "metadata": {},
   "outputs": [
    {
     "name": "stdout",
     "output_type": "stream",
     "text": [
      "Enter first _name: moatez mathlouthi\n",
      "Enter your last _name: 123\n",
      "123 moatez mathlouthi\n"
     ]
    }
   ],
   "source": [
    "first_name = input(\"Enter first _name: \")\n",
    "last_name = input(\"Enter your last _name: \")\n",
    "\n",
    "res= print (last_name+ \" \" + first_name)"
   ]
  },
  {
   "cell_type": "markdown",
   "id": "522f616d",
   "metadata": {},
   "source": [
    "#Question 2\n"
   ]
  },
  {
   "cell_type": "code",
   "execution_count": 3,
   "id": "c53b2757",
   "metadata": {},
   "outputs": [],
   "source": [
    "#x=int(input (\"n=\"))\n",
    "#res= ((x +((x)*(11)))+((x)*(111)))\n",
    "#print (res)"
   ]
  },
  {
   "cell_type": "code",
   "execution_count": 4,
   "id": "713f5fc7",
   "metadata": {},
   "outputs": [
    {
     "name": "stdout",
     "output_type": "stream",
     "text": [
      "Input an integer : 5\n",
      "615\n"
     ]
    }
   ],
   "source": [
    "a = int(input(\"Input an integer : \"))\n",
    "n1 = int( \"%s\" % a )\n",
    "n2 = int( \"%s%s\" % (a,a) )\n",
    "n3 = int( \"%s%s%s\" % (a,a,a) )\n",
    "print (n1+n2+n3)"
   ]
  },
  {
   "cell_type": "markdown",
   "id": "596baab3",
   "metadata": {},
   "source": [
    "#Question 3"
   ]
  },
  {
   "cell_type": "code",
   "execution_count": 5,
   "id": "6054fbde",
   "metadata": {
    "scrolled": false
   },
   "outputs": [
    {
     "name": "stdout",
     "output_type": "stream",
     "text": [
      "number=6\n",
      "6 is even number\n"
     ]
    }
   ],
   "source": [
    "i= int(input(\"number=\"))\n",
    "if (i % 2 == 0):\n",
    "    print(i, \"is even number\")\n",
    "else:\n",
    "    print(i, \"is odd number\")"
   ]
  },
  {
   "cell_type": "markdown",
   "id": "a41ece64",
   "metadata": {},
   "source": [
    "#Question 4"
   ]
  },
  {
   "cell_type": "code",
   "execution_count": 36,
   "id": "0330e088",
   "metadata": {},
   "outputs": [
    {
     "name": "stdout",
     "output_type": "stream",
     "text": [
      "2002,2009,2016,2023,2037,2044,2051,2058,2072,2079,2086,2093,2107,2114,2121,2128,2142,2149,2156,2163,2177,2184,2191,2198,2212,2219,2226,2233,2247,2254,2261,2268,2282,2289,2296,2303,2317,2324,2331,2338,2352,2359,2366,2373,2387,2394,2401,2408,2422,2429,2436,2443,2457,2464,2471,2478,2492,2499,2506,2513,2527,2534,2541,2548,2562,2569,2576,2583,2597,2604,2611,2618,2632,2639,2646,2653,2667,2674,2681,2688,2702,2709,2716,2723,2737,2744,2751,2758,2772,2779,2786,2793,2807,2814,2821,2828,2842,2849,2856,2863,2877,2884,2891,2898,2912,2919,2926,2933,2947,2954,2961,2968,2982,2989,2996,3003,3017,3024,3031,3038,3052,3059,3066,3073,3087,3094,3101,3108,3122,3129,3136,3143,3157,3164,3171,3178,3192,3199\n"
     ]
    }
   ],
   "source": [
    "nl=[]\n",
    "for x in range(2000, 3200):\n",
    "    if (x%7==0) and (x%5!=0):\n",
    "        nl.append(str(x))\n",
    "print (','.join(nl))"
   ]
  },
  {
   "cell_type": "markdown",
   "id": "3d3eaef7",
   "metadata": {},
   "source": [
    "#Question 5"
   ]
  },
  {
   "cell_type": "code",
   "execution_count": 15,
   "id": "4068a85b",
   "metadata": {},
   "outputs": [
    {
     "name": "stdout",
     "output_type": "stream",
     "text": [
      "saisir la valeur de n: 8\n",
      "la factorielle de  8  est :  40320\n"
     ]
    }
   ],
   "source": [
    "while True:\n",
    "\tn=int(input(\"saisir la valeur de n: \"))\n",
    "\tif n >= 0:\n",
    "\t\tbreak\n",
    "if n == 0:\n",
    "\tprint(\"la factorielle de 0 est : 1 \")\n",
    "else:\n",
    "\tf = 1\n",
    "\tfor i in range(2,n+1):\n",
    "\t\tf = f * i\n",
    "print(\"la factorielle de \" , n , \" est : \" , f)"
   ]
  },
  {
   "cell_type": "markdown",
   "id": "cc666e65",
   "metadata": {},
   "source": [
    "#Question 6\n"
   ]
  },
  {
   "cell_type": "code",
   "execution_count": 12,
   "id": "68599b35",
   "metadata": {},
   "outputs": [
    {
     "name": "stdout",
     "output_type": "stream",
     "text": [
      "Please Enter your Own String : hello team\n",
      "String :   hello team\n",
      "the result should be :  hlota\n"
     ]
    }
   ],
   "source": [
    "str1 = input(\"Please Enter your Own String : \")\n",
    "\n",
    "str2 = ''\n",
    "i = 0\n",
    "\n",
    "while (i < len(str1)):\n",
    "\tif (i % 2 == 0):\n",
    "\t\tstr2 = str2 + str1[i]\n",
    "\ti = i + 1\n",
    "\n",
    "print(\"String :  \", str1)\n",
    "print(\"the result should be : \", str2)"
   ]
  },
  {
   "cell_type": "markdown",
   "id": "d9bd5ad4",
   "metadata": {},
   "source": [
    "#Question 7"
   ]
  },
  {
   "cell_type": "code",
   "execution_count": 13,
   "id": "a6e04652",
   "metadata": {},
   "outputs": [
    {
     "name": "stdout",
     "output_type": "stream",
     "text": [
      "k= 500\n",
      "50% discount:  250.0\n"
     ]
    }
   ],
   "source": [
    "k = (int(input(\"k= \")))\n",
    "if k>= int(500):\n",
    "\tprint(\"50% discount: \" , k*0.5)\n",
    "elif k >= 200 and k <= 500:\n",
    "\tprint(\"30% discount: \", k * 0.7)\n",
    "elif k < 200 :\n",
    "\tprint(\"10% discount: \", k * 0.9)"
   ]
  }
 ],
 "metadata": {
  "kernelspec": {
   "display_name": "Python 3",
   "language": "python",
   "name": "python3"
  },
  "language_info": {
   "codemirror_mode": {
    "name": "ipython",
    "version": 3
   },
   "file_extension": ".py",
   "mimetype": "text/x-python",
   "name": "python",
   "nbconvert_exporter": "python",
   "pygments_lexer": "ipython3",
   "version": "3.8.8"
  }
 },
 "nbformat": 4,
 "nbformat_minor": 5
}
